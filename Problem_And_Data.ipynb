{
    "cells": [
        {
            "cell_type": "markdown",
            "metadata": {
                "collapsed": true
            },
            "source": "# 1. Introduction/Business Problem"
        },
        {
            "cell_type": "markdown",
            "metadata": {},
            "source": "## 1.1 Problem "
        },
        {
            "cell_type": "markdown",
            "metadata": {},
            "source": "As 2017, Toronto held a population of 2.93 million and is perceived as one of the most metropolitan and multicultural cities in world. As a common trait with cosmopolitan cities around the world, __housing could be expensive and barely affordable for a familly with middle class income__.\nThis study aims __to determine the neighborhood in Toronto with affordable housing in a safe neighborhood__. The study also investigates the __availability of parking lots__, __the stability of the area__ in terms of natural disaster (floods, earthquakes) and __the proximity with health clinics__ among other criteria that define the perfect neighborhood to live.\nThe target __audience__ for this study is __anyone seeking housing in Toronto__ for a __small size familly with middle-class income__. "
        },
        {
            "cell_type": "markdown",
            "metadata": {},
            "source": "## 1.2 Data"
        },
        {
            "cell_type": "markdown",
            "metadata": {},
            "source": "In this study, we leverage some data provided by the city of Toronto through the Open Data project. https://open.toronto.ca/  \nwe leverage many datasets including:\n    \n    1. Segmentation of the neighborhoods:\nGives the segmentation of the city of Toronto into neighborhoos.\n    \n    2. Physical areas of parking lots:\nPolygon layer representing the physical area of parking lots. Part of the City\u2019s topographic mapping products, the data is collected from high resolution aerial photography.\n    \n    3. Neighborhoods profile: \nThis dataset leverages data about age and sex, families and households, language, immigration and internal migration, ethnocultural diversity, Aboriginal peoples, housing, education, income, and labour to provide a portrait of the demographic, social and economic characteristics of the people and households in each City of Toronto neighbourhood.   \n    \n    4. Basement flooding by ward \nService requests by ward due to basement flooding and number of approved applications by ward for the City's Basement Flooding Subsidy Protection Program since 2013.  \n    \n    5. Wellbeing - Demographics\nThe data refers to Total Population from the 2016 Census, aggregated by the City of Toronto to the City's 140 Neighbourhood Planning Areas.    \n    \n    6. Social housing unit by neighborhood \nThis dataset contains unit density profiles of Social Housing in the City of Toronto for the 140 neighbourhoods that make up the City of Toronto.     \n    \n    7. Wellbeing - Safety\nProvides details on the dafety of the neighborhood in Toronto.Interesting features to look into in this dataset incluse __Arson__, __Break and Enter__, __Drug arrests__, etc. These features are given by neighborhood. It is interesting to look into the data to determine either a neighbhood is safe to live in and raise kids.\n    \n    8. Retirement homes\nThe data came from various sources including Toronto Community Housing Corporation, City of Toronto's Shelter, Support and Housing Administration, City of Toronto Affordable Housing Office and Statistics Canada. Average Home Price data was taken from Realosophy.com.    \n    \n    9. Wellbeing - Environment     \nProvides information on the environment of each neighborhood in Toronto city that impact the wellbeing. An interesting feature in this dataset can be for example the __Green Space__ feature that gives the total area of green spaces ny neighborhood.\n\n    10. Land ambulance response time \nThe information is originally submitted by individual retirement home providers to senioropolis.com and provides information on retirement homes in Toronto.    "
        }
    ],
    "metadata": {
        "kernelspec": {
            "display_name": "Python 3.6",
            "language": "python",
            "name": "python3"
        },
        "language_info": {
            "codemirror_mode": {
                "name": "ipython",
                "version": 3
            },
            "file_extension": ".py",
            "mimetype": "text/x-python",
            "name": "python",
            "nbconvert_exporter": "python",
            "pygments_lexer": "ipython3",
            "version": "3.6.9"
        }
    },
    "nbformat": 4,
    "nbformat_minor": 1
}